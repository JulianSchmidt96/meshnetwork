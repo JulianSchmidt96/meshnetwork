{
 "cells": [
  {
   "cell_type": "code",
   "execution_count": 1,
   "id": "d2d19f95",
   "metadata": {},
   "outputs": [],
   "source": [
    "import pandas as pd"
   ]
  },
  {
   "cell_type": "code",
   "execution_count": 6,
   "id": "aecf0a3d",
   "metadata": {},
   "outputs": [
    {
     "name": "stdout",
     "output_type": "stream",
     "text": [
      "dump_parsed.csv   gps_trace_corrected.csv  ping_parsed.csv\r\n",
      "dump_parsed.xlsx  iperf_parsed.csv\r\n"
     ]
    }
   ],
   "source": [
    "! ls data/data/2nd_distance_measurement/clientParsed/"
   ]
  },
  {
   "cell_type": "code",
   "execution_count": 15,
   "id": "270ff051",
   "metadata": {},
   "outputs": [],
   "source": [
    "iperf = pd.read_csv('data/2nd_distance_measurement/clientParsed/iperf_parsed.csv').drop(columns=['Unnamed: 0'])"
   ]
  },
  {
   "cell_type": "code",
   "execution_count": 18,
   "id": "4eace610",
   "metadata": {},
   "outputs": [],
   "source": [
    "gps = pd.read_csv('data/2nd_distance_measurement/clientParsed/gps_trace_corrected.csv')#.drop(columns=['Unnamed: 0'])"
   ]
  },
  {
   "cell_type": "code",
   "execution_count": 19,
   "id": "e3e05caf",
   "metadata": {},
   "outputs": [],
   "source": [
    "ping = pd.read_csv('data/2nd_distance_measurement/clientParsed/ping_parsed.csv').drop(columns=['Unnamed: 0'])"
   ]
  },
  {
   "cell_type": "code",
   "execution_count": 21,
   "id": "26801616",
   "metadata": {},
   "outputs": [],
   "source": [
    "df = pd.merge(iperf, gps, on='timestamp')"
   ]
  },
  {
   "cell_type": "code",
   "execution_count": 23,
   "id": "ce9e6ddf",
   "metadata": {},
   "outputs": [],
   "source": [
    "df = pd.merge(df, ping, on ='timestamp')"
   ]
  },
  {
   "cell_type": "code",
   "execution_count": 25,
   "id": "e32ce200",
   "metadata": {},
   "outputs": [],
   "source": [
    "distance_df = df[['lat','lon','datarate','distance']]"
   ]
  },
  {
   "cell_type": "code",
   "execution_count": 27,
   "id": "e128b6a6",
   "metadata": {},
   "outputs": [],
   "source": [
    "import matplotlib.pyplot as plt"
   ]
  },
  {
   "cell_type": "code",
   "execution_count": 31,
   "id": "f3bd96b1",
   "metadata": {},
   "outputs": [
    {
     "data": {
      "text/plain": [
       "Text(0, 0.5, 'datarate in bits/s')"
      ]
     },
     "execution_count": 31,
     "metadata": {},
     "output_type": "execute_result"
    },
    {
     "data": {
      "image/png": "[encoded data removed]",
      "text/plain": [
       "<Figure size 864x432 with 1 Axes>"
      ]
     },
     "metadata": {
      "needs_background": "light"
     },
     "output_type": "display_data"
    }
   ],
   "source": [
    "plt.figure(figsize=(12,6))\n",
    "plt.grid()\n",
    "plt.plot(distance_df.distance, distance_df.datarate)\n",
    "plt.xlabel('distance in m')\n",
    "plt.ylabel('datarate in bits/s')"
   ]
  },
  {
   "cell_type": "code",
   "execution_count": 41,
   "id": "cb3b0a02",
   "metadata": {},
   "outputs": [],
   "source": [
    "import folium\n",
    "from folium import plugins\n",
    "from folium.plugins import HeatMap\n"
   ]
  },
  {
   "cell_type": "code",
   "execution_count": 42,
   "id": "c4efb99a",
   "metadata": {},
   "outputs": [],
   "source": [
    "heat_df = distance_df[['lat','lon','datarate']]"
   ]
  },
  {
   "cell_type": "code",
   "execution_count": 43,
   "id": "68148cb0",
   "metadata": {},
   "outputs": [],
   "source": [
    "map_hooray = folium.Map(location=[distance_df.lat[0], distance_df.lon[0]],\n",
    "                    zoom_start = 13) "
   ]
  },
  {
   "cell_type": "code",
   "execution_count": 44,
   "id": "d2ea65d5",
   "metadata": {},
   "outputs": [
    {
     "data": {
      "text/html": [
       "<div style=\"width:100%;\"><div style=\"position:relative;width:100%;height:0;padding-bottom:60%;\"><span style=\"color:#565656\">Make this Notebook Trusted to load map: File -> Trust Notebook</span><iframe srcdoc=\"&lt;!DOCTYPE html&gt;\n",
       "&lt;head&gt;    \n",
       "    &lt;meta http-equiv=&quot;content-type&quot; content=&quot;text/html; charset=UTF-8&quot; /&gt;\n",
       "    \n",
       "        &lt;script&gt;\n",
       "            L_NO_TOUCH = false;\n",
       "            L_DISABLE_3D = false;\n",
       "        &lt;/script&gt;\n",
       "    \n",
       "    &lt;style&gt;html, body {width: 100%;height: 100%;margin: 0;padding: 0;}&lt;/style&gt;\n",
       "    &lt;style&gt;#map {position:absolute;top:0;bottom:0;right:0;left:0;}&lt;/style&gt;\n",
       "    &lt;script src=&quot;https://cdn.jsdelivr.net/npm/leaflet@1.6.0/dist/leaflet.js&quot;&gt;&lt;/script&gt;\n",
       "    &lt;script src=&quot;https://code.jquery.com/jquery-1.12.4.min.js&quot;&gt;&lt;/script&gt;\n",
       "    &lt;script src=&quot;https://maxcdn.bootstrapcdn.com/bootstrap/3.2.0/js/bootstrap.min.js&quot;&gt;&lt;/script&gt;\n",
       "    &lt;script src=&quot;https://cdnjs.cloudflare.com/ajax/libs/Leaflet.awesome-markers/2.0.2/leaflet.awesome-markers.js&quot;&gt;&lt;/script&gt;\n",
       "    &lt;link rel=&quot;stylesheet&quot; href=&quot;https://cdn.jsdelivr.net/npm/leaflet@1.6.0/dist/leaflet.css&quot;/&gt;\n",
       "    &lt;link rel=&quot;stylesheet&quot; href=&quot;https://maxcdn.bootstrapcdn.com/bootstrap/3.2.0/css/bootstrap.min.css&quot;/&gt;\n",
       "    &lt;link rel=&quot;stylesheet&quot; href=&quot;https://maxcdn.bootstrapcdn.com/bootstrap/3.2.0/css/bootstrap-theme.min.css&quot;/&gt;\n",
       "    &lt;link rel=&quot;stylesheet&quot; href=&quot;https://maxcdn.bootstrapcdn.com/font-awesome/4.6.3/css/font-awesome.min.css&quot;/&gt;\n",
       "    &lt;link rel=&quot;stylesheet&quot; href=&quot;https://cdnjs.cloudflare.com/ajax/libs/Leaflet.awesome-markers/2.0.2/leaflet.awesome-markers.css&quot;/&gt;\n",
       "    &lt;link rel=&quot;stylesheet&quot; href=&quot;https://cdn.jsdelivr.net/gh/python-visualization/folium/folium/templates/leaflet.awesome.rotate.min.css&quot;/&gt;\n",
       "    \n",
       "            &lt;meta name=&quot;viewport&quot; content=&quot;width=device-width,\n",
       "                initial-scale=1.0, maximum-scale=1.0, user-scalable=no&quot; /&gt;\n",
       "            &lt;style&gt;\n",
       "                #map_7745bd6e3de8fb2deba98bd3d5aba64e {\n",
       "                    position: relative;\n",
       "                    width: 100.0%;\n",
       "                    height: 100.0%;\n",
       "                    left: 0.0%;\n",
       "                    top: 0.0%;\n",
       "                }\n",
       "            &lt;/style&gt;\n",
       "        \n",
       "    &lt;script src=&quot;https://cdn.jsdelivr.net/gh/python-visualization/folium@master/folium/templates/leaflet_heat.min.js&quot;&gt;&lt;/script&gt;\n",
       "&lt;/head&gt;\n",
       "&lt;body&gt;    \n",
       "    \n",
       "            &lt;div class=&quot;folium-map&quot; id=&quot;map_7745bd6e3de8fb2deba98bd3d5aba64e&quot; &gt;&lt;/div&gt;\n",
       "        \n",
       "&lt;/body&gt;\n",
       "&lt;script&gt;    \n",
       "    \n",
       "            var map_7745bd6e3de8fb2deba98bd3d5aba64e = L.map(\n",
       "                &quot;map_7745bd6e3de8fb2deba98bd3d5aba64e&quot;,\n",
       "                {\n",
       "                    center: [52.62304806, 13.48184011],\n",
       "                    crs: L.CRS.EPSG3857,\n",
       "                    zoom: 13,\n",
       "                    zoomControl: true,\n",
       "                    preferCanvas: false,\n",
       "                }\n",
       "            );\n",
       "\n",
       "            \n",
       "\n",
       "        \n",
       "    \n",
       "            var tile_layer_ce121520b776f649a91ac042db9f5687 = L.tileLayer(\n",
       "                &quot;https://{s}.tile.openstreetmap.org/{z}/{x}/{y}.png&quot;,\n",
       "                {&quot;attribution&quot;: &quot;Data by \\u0026copy; \\u003ca href=\\&quot;http://openstreetmap.org\\&quot;\\u003eOpenStreetMap\\u003c/a\\u003e, under \\u003ca href=\\&quot;http://www.openstreetmap.org/copyright\\&quot;\\u003eODbL\\u003c/a\\u003e.&quot;, &quot;detectRetina&quot;: false, &quot;maxNativeZoom&quot;: 18, &quot;maxZoom&quot;: 18, &quot;minZoom&quot;: 0, &quot;noWrap&quot;: false, &quot;opacity&quot;: 1, &quot;subdomains&quot;: &quot;abc&quot;, &quot;tms&quot;: false}\n",
       "            ).addTo(map_7745bd6e3de8fb2deba98bd3d5aba64e);\n",
       "        \n",
       "    \n",
       "            var heat_map_08877559c8ced42963df8ba6a4fc35a1 = L.heatLayer(\n",
       "                [[52.62304806, 13.48184011, 1229600.0], [52.62304832, 13.48184075, 823600.0], [52.62304836, 13.48184069, 1415200.0], [52.62304847, 13.48184047, 1821200.0], [52.62304866, 13.48184035, 904800.0], [52.6230487, 13.48184034, 1322400.0], [52.62304874, 13.48184038, 2180800.0], [52.62305549, 13.4818391, 2157600.0], [52.62306895, 13.48187123, 2470800.0], [52.62306175, 13.48188456, 1461600.0], [52.62305617, 13.48189785, 939600.0], [52.62304774, 13.48191605, 1160000.0], [52.62304774, 13.48191605, 1160000.0], [52.62304261, 13.48192246, 2343200.0], [52.62304261, 13.48192246, 2343200.0], [52.62303465, 13.48193238, 2180800.0], [52.62303465, 13.48193238, 2180800.0], [52.62303329, 13.48194909, 2749200.0], [52.62303329, 13.48194909, 2749200.0], [52.62303032, 13.48196737, 6113200.0], [52.62303032, 13.48196737, 6113200.0], [52.623025, 13.48198286, 4883600.0], [52.62301935, 13.48199863, 2424400.0], [52.62301935, 13.48199863, 2424400.0], [52.62301281, 13.48201363, 3398800.0], [52.62301281, 13.48201363, 3398800.0], [52.62300769, 13.48202975, 3538000.0], [52.62300769, 13.48202975, 3538000.0], [52.62300181, 13.48204651, 1809600.0], [52.62299509, 13.48206222, 939600.0], [52.62298784, 13.48207596, 3480000.0], [52.62298784, 13.48207596, 3480000.0], [52.62298154, 13.48208882, 3816400.0], [52.62298154, 13.48208882, 3816400.0], [52.6229743, 13.48210243, 1508000.0], [52.62296793, 13.48211676, 2958000.0], [52.62296284, 13.48213341, 2517200.0], [52.62296284, 13.48213341, 2517200.0], [52.62295771, 13.48215102, 2749200.0], [52.62295177, 13.48216835, 1867600.0], [52.62294632, 13.48218575, 1635600.0], [52.62294056, 13.48220253, 951200.0], [52.62292889, 13.48223869, 2041600.0], [52.62292889, 13.48223869, 11600.0], [52.62292179, 13.4822791, 11600.0], [52.62291793, 13.4822988, 0.0], [52.62291347, 13.4823166, 0.0], [52.62291347, 13.4823166, 23200.0], [52.62290789, 13.48233366, 34800.0], [52.62290215, 13.4823506, 23200.0], [52.62289924, 13.48236651, 81200.0], [52.62289722, 13.48238341, 348000.0], [52.62289336, 13.48239922, 870000.0], [52.62288804, 13.48241657, 1078800.0], [52.62288208, 13.48243118, 556800.0], [52.62287578, 13.48244519, 104400.0], [52.62286225, 13.48247955, 974400.0], [52.62286225, 13.48247955, 23200.0], [52.62285437, 13.48249609, 951200.0], [52.62283603, 13.48253183, 0.0], [52.62283603, 13.48253183, 23200.0], [52.62281617, 13.48256739, 11600.0], [52.62281617, 13.48256739, 11600.0], [52.62279331, 13.48260623, 846800.0], [52.62279331, 13.48260623, 23200.0], [52.62278169, 13.48262376, 0.0], [52.62277082, 13.48264272, 23200.0], [52.6227531, 13.48268253, 34800.0], [52.62274363, 13.48270268, 0.0], [52.62274363, 13.48270268, 11600.0], [52.62272387, 13.4827381, 858400.0], [52.62271452, 13.48275258, 0.0], [52.62270691, 13.48277005, 0.0], [52.62269847, 13.48278995, 0.0], [52.62269222, 13.48280916, 0.0], [52.62268552, 13.4828294, 0.0], [52.62267819, 13.48285071, 23200.0], [52.62267208, 13.48287092, 0.0], [52.62267208, 13.48287092, 0.0], [52.62266754, 13.4828918, 0.0], [52.62266632, 13.48290599, 0.0], [52.62266746, 13.48291034, 0.0], [52.62265982, 13.48293556, 0.0], [52.62265255, 13.48295351, 11600.0], [52.62264422, 13.48297288, 11600.0], [52.62263609, 13.48299005, 23200.0], [52.62263609, 13.48299005, 34800.0], [52.62262758, 13.48300672, 23200.0], [52.62261976, 13.48302426, 661200.0], [52.62260024, 13.4830584, 846800.0], [52.62258934, 13.48307577, 0.0], [52.62258934, 13.48307577, 11600.0], [52.62256994, 13.48310733, 858400.0], [52.62256994, 13.48310733, 11600.0], [52.62256117, 13.4831264, 11600.0], [52.62255627, 13.48314555, 881600.0], [52.62254276, 13.48318789, 23200.0], [52.62253498, 13.48320399, 939600.0], [52.62252613, 13.48322216, 50726800.0], [52.62251674, 13.4832423, 56828400.0], [52.62250808, 13.48326191, 53719600.0], [52.62249813, 13.48328258, 58858400.0], [52.62248952, 13.48330226, 56758800.0], [52.62248251, 13.48332019, 61016000.0], [52.62247518, 13.48333877, 62756000.0], [52.622468, 13.48335568, 54508400.0], [52.62245963, 13.48337396, 57570800.0], [52.6224507, 13.4833937, 56086000.0], [52.62244194, 13.48341351, 56677600.0], [52.62243289, 13.48343462, 59821200.0], [52.62242302, 13.48345569, 56515200.0], [52.62241413, 13.48347355, 59589200.0], [52.62240782, 13.48349027, 57396800.0], [52.62240064, 13.48350809, 56434000.0], [52.62239336, 13.48352806, 56921200.0], [52.62238559, 13.4835459, 56631200.0], [52.62237787, 13.4835633, 57489600.0], [52.62236958, 13.48357979, 55378400.0], [52.62236119, 13.48359944, 57188000.0], [52.62235186, 13.48361759, 57524400.0], [52.6223431, 13.48363607, 85364400.0], [52.6223351, 13.48365575, 55250800.0], [52.62232878, 13.48367545, 55285600.0], [52.62232249, 13.48369782, 57617200.0], [52.62231419, 13.48372221, 72836400.0], [52.62230647, 13.48374386, 84088400.0], [52.62229793, 13.48376319, 103483600.0], [52.62228961, 13.48378329, 70354000.0], [52.62228131, 13.48380305, 102822400.0], [52.62227325, 13.48382005, 78462400.0], [52.62226646, 13.48383862, 94354400.0], [52.62225891, 13.48385633, 95456400.0], [52.62225007, 13.48387484, 90364000.0], [52.62224033, 13.48389262, 103924400.0], [52.62223022, 13.48390691, 98762400.0], [52.62221974, 13.48391977, 92788400.0], [52.62220922, 13.48393232, 100316800.0], [52.62220025, 13.48394606, 100873600.0], [52.62219356, 13.48396425, 107613200.0], [52.6221853, 13.48398592, 92138800.0], [52.62217711, 13.4840089, 101534800.0], [52.62216916, 13.48403156, 93855600.0], [52.62216094, 13.48405247, 106244400.0], [52.62215206, 13.48407322, 106511200.0], [52.62214315, 13.48409473, 97892400.0], [52.62213433, 13.48411916, 91094800.0], [52.62212622, 13.48414237, 109283600.0], [52.62211772, 13.48416297, 103054400.0], [52.62209137, 13.48422518, 23991402.0]],\n",
       "                {&quot;blur&quot;: 15, &quot;maxZoom&quot;: 18, &quot;minOpacity&quot;: 0.5, &quot;radius&quot;: 25}\n",
       "            ).addTo(map_7745bd6e3de8fb2deba98bd3d5aba64e);\n",
       "        \n",
       "&lt;/script&gt;\" style=\"position:absolute;width:100%;height:100%;left:0;top:0;border:none !important;\" allowfullscreen webkitallowfullscreen mozallowfullscreen></iframe></div></div>"
      ],
      "text/plain": [
       "<folium.folium.Map at 0x7efcd40a4760>"
      ]
     },
     "execution_count": 44,
     "metadata": {},
     "output_type": "execute_result"
    }
   ],
   "source": [
    "HeatMap(heat_df).add_to(map_hooray)\n",
    "\n",
    "# Display the map\n",
    "map_hooray"
   ]
  },
  {
   "cell_type": "code",
   "execution_count": null,
   "id": "4f6cc1fb",
   "metadata": {},
   "outputs": [],
   "source": []
  }
 ],
 "metadata": {
  "kernelspec": {
   "display_name": "Python 3 (ipykernel)",
   "language": "python",
   "name": "python3"
  },
  "language_info": {
   "codemirror_mode": {
    "name": "ipython",
    "version": 3
   },
   "file_extension": ".py",
   "mimetype": "text/x-python",
   "name": "python",
   "nbconvert_exporter": "python",
   "pygments_lexer": "ipython3",
   "version": "3.10.4"
  }
 },
 "nbformat": 4,
 "nbformat_minor": 5
}
